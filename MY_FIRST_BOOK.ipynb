{
  "nbformat": 4,
  "nbformat_minor": 0,
  "metadata": {
    "colab": {
      "name": "MY FIRST BOOK",
      "provenance": [],
      "authorship_tag": "ABX9TyNaMeKPh3TlMDEjoFd4m1lb",
      "include_colab_link": true
    },
    "kernelspec": {
      "name": "python3",
      "display_name": "Python 3"
    },
    "language_info": {
      "name": "python"
    }
  },
  "cells": [
    {
      "cell_type": "markdown",
      "metadata": {
        "id": "view-in-github",
        "colab_type": "text"
      },
      "source": [
        "<a href=\"https://colab.research.google.com/github/GANGADHAR1834/ML2020/blob/main/MY_FIRST_BOOK.ipynb\" target=\"_parent\"><img src=\"https://colab.research.google.com/assets/colab-badge.svg\" alt=\"Open In Colab\"/></a>"
      ]
    },
    {
      "cell_type": "markdown",
      "metadata": {
        "id": "oiwZhx9SGyWe"
      },
      "source": [
        "TO FIND EVEN OR ODD"
      ]
    },
    {
      "cell_type": "code",
      "metadata": {
        "colab": {
          "base_uri": "https://localhost:8080/"
        },
        "id": "NoRXYvRlG51O",
        "outputId": "79be48fb-7222-49fc-bb4a-65cf89f964de"
      },
      "source": [
        "a=int(input())\n",
        "if a%2==0:\n",
        "  print(\"even\")\n",
        "else:\n",
        "  print(\"odd\")"
      ],
      "execution_count": 2,
      "outputs": [
        {
          "output_type": "stream",
          "text": [
            "5\n",
            "odd\n"
          ],
          "name": "stdout"
        }
      ]
    }
  ]
}